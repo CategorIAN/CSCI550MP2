{
 "cells": [
  {
   "cell_type": "markdown",
   "metadata": {},
   "source": [
    "# General"
   ]
  },
  {
   "cell_type": "markdown",
   "metadata": {},
   "source": [
    "## Import Packages"
   ]
  },
  {
   "cell_type": "code",
   "execution_count": null,
   "metadata": {},
   "outputs": [],
   "source": [
    "#--Basics---------------\n",
    "import pandas as pd\n",
    "import numpy as np\n",
    "#--Data Visualization----\n",
    "import matplotlib.pyplot as plt\n",
    "import seaborn as sns\n",
    "\n",
    "#---Scikit-Learn--------\n",
    "from sklearn import set_config\n",
    "from sklearn.base import BaseEstimator, TransformerMixin\n",
    "from sklearn.compose import ColumnTransformer\n",
    "from sklearn.preprocessing import OneHotEncoder, FunctionTransformer, MaxAbsScaler\n",
    "from sklearn.pipeline import Pipeline\n",
    "from sklearn.feature_selection import SequentialFeatureSelector\n",
    "from sklearn.linear_model import Ridge, LinearRegression\n",
    "from sklearn.impute import SimpleImputer\n",
    "from sklearn.utils import estimator_html_repr\n",
    "\n",
    "#---Misc------------------\n",
    "import expectexception\n",
    "from itertools import combinations"
   ]
  },
  {
   "cell_type": "markdown",
   "metadata": {},
   "source": [
    "## Define Data"
   ]
  },
  {
   "cell_type": "code",
   "execution_count": 32,
   "metadata": {
    "tags": [
     "Nishu"
    ]
   },
   "outputs": [],
   "source": [
    "data = pd.read_csv(r\"ames.csv\")\n",
    "data = data.drop(columns=['Alley', 'Fireplace.Qu', 'Pool.QC', 'Fence', 'Misc.Feature'], axis=1)\n",
    "columns_numeric = ['Lot.Frontage', 'Mas.Vnr.Area', 'BsmtFin.SF.1', 'BsmtFin.SF.2',\n",
    "                         'Bsmt.Unf.SF', 'Total.Bsmt.SF', 'Bsmt.Full.Bath', 'Bsmt.Half.Bath',\n",
    "                        'Garage.Yr.Blt', 'Garage.Cars', 'Garage.Area']\n",
    "columns_categorical = [ 'Mas.Vnr.Type','Bsmt.Qual', 'Bsmt.Cond', 'Bsmt.Exposure', 'BsmtFin.Type.1',\n",
    "                        'BsmtFin.Type.2','Electrical', 'Garage.Type', 'Garage.Finish', 'Garage.Qual', 'Garage.Cond']\n"
   ]
  },
  {
   "cell_type": "markdown",
   "metadata": {},
   "source": [
    "## Handle Missing Values"
   ]
  },
  {
   "cell_type": "code",
   "execution_count": 36,
   "metadata": {
    "tags": [
     "Nishu"
    ]
   },
   "outputs": [],
   "source": [
    "# Impute missing values with the median of the respective column\n",
    "for column in columns_numeric:\n",
    "    median_value = data[column].median()\n",
    "    data[column].fillna(median_value, inplace=True)\n",
    "    \n",
    "# Impute missing values with the mode of the respective column\n",
    "for col in columns_categorical:\n",
    "    data[col].fillna(data[col].mode()[0], inplace=True)\n",
    "\n",
    "X, y = data.loc[:, data.columns.drop('price')], data['price']"
   ]
  },
  {
   "cell_type": "markdown",
   "metadata": {},
   "source": [
    "## Encoding"
   ]
  },
  {
   "cell_type": "code",
   "execution_count": 37,
   "metadata": {},
   "outputs": [],
   "source": [
    "encoder = OneHotEncoder(sparse_output = False).set_output(transform=\"pandas\")\n",
    "X_ohe_cat = encoder.fit_transform(X[columns_categorical])\n",
    "X_ohe = pd.concat([X_ohe_cat, X[columns_numeric]], axis=1)\n",
    "X_ohe.to_csv(\"df.csv\")\n"
   ]
  },
  {
   "cell_type": "markdown",
   "metadata": {},
   "source": [
    "## Forward Selection"
   ]
  },
  {
   "cell_type": "code",
   "execution_count": 62,
   "metadata": {},
   "outputs": [
    {
     "name": "stdout",
     "output_type": "stream",
     "text": [
      "Index(['Bsmt.Qual_Ex', 'Bsmt.Qual_Gd', 'Bsmt.Exposure_Gd',\n",
      "       'BsmtFin.Type.1_GLQ', 'Garage.Type_Attchd', 'Garage.Type_BuiltIn',\n",
      "       'Garage.Finish_Fin', 'Garage.Qual_Gd', 'Mas.Vnr.Area', 'Total.Bsmt.SF',\n",
      "       'Garage.Cars', 'Garage.Area'],\n",
      "      dtype='object')\n"
     ]
    }
   ],
   "source": [
    "estimator = LinearRegression()\n",
    "sfs_forward = SequentialFeatureSelector(estimator=estimator, direction=\"forward\", tol=.001).set_output(transform=\"pandas\")\n",
    "M_forward = sfs_forward.fit_transform(X_ohe, y)\n",
    "print(M_forward.columns)"
   ]
  },
  {
   "cell_type": "markdown",
   "metadata": {},
   "source": [
    "## Backward Selection"
   ]
  },
  {
   "cell_type": "code",
   "execution_count": 63,
   "metadata": {},
   "outputs": [
    {
     "name": "stdout",
     "output_type": "stream",
     "text": [
      "Index(['Bsmt.Qual_Ex', 'Bsmt.Qual_Gd', 'Bsmt.Exposure_Gd',\n",
      "       'Garage.Type_Attchd', 'Garage.Type_BuiltIn', 'Garage.Finish_RFn',\n",
      "       'Garage.Finish_Unf', 'Garage.Qual_Gd', 'Mas.Vnr.Area', 'Total.Bsmt.SF',\n",
      "       'Garage.Cars', 'Garage.Area'],\n",
      "      dtype='object')\n"
     ]
    }
   ],
   "source": [
    "sfs_backward = SequentialFeatureSelector(estimator=estimator, direction=\"backward\", tol=-.001).set_output(transform=\"pandas\")\n",
    "M_backward = sfs_backward.fit_transform(X_ohe, y)\n",
    "print(M_backward.columns)"
   ]
  }
 ],
 "metadata": {
  "kernelspec": {
   "display_name": "Python 3",
   "language": "python",
   "name": "python3"
  },
  "language_info": {
   "codemirror_mode": {
    "name": "ipython",
    "version": 3
   },
   "file_extension": ".py",
   "mimetype": "text/x-python",
   "name": "python",
   "nbconvert_exporter": "python",
   "pygments_lexer": "ipython3",
   "version": "3.11.6"
  }
 },
 "nbformat": 4,
 "nbformat_minor": 2
}
